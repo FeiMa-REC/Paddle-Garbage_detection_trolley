{
 "cells": [
  {
   "cell_type": "markdown",
   "metadata": {
    "collapsed": false
   },
   "source": [
    "# 树莓派垃圾检测小车\n",
    "\n",
    "使用PaddleDetection实现自定义数据集标注及模型训练并导出侧端部署.nb模型\n",
    "**（前置项目版本）**\n",
    "\n",
    "工具：精灵标注、PaddleDetection、PaddleLite、\n",
    "\n",
    "<font size = 3 color = blue>[PaddleDetection官方文档](https://github.com/PaddlePaddle/PaddleDetection)</font>\n",
    "\n",
    "<font size = 3 color = blue>[Paddle-Lite官方文档](https://github.com/PaddlePaddle/Paddle-Lite)</font>"
   ]
  },
  {
   "cell_type": "markdown",
   "metadata": {
    "collapsed": false
   },
   "source": [
    "# 一、项目背景\n",
    "\n",
    "随着人民对物质生活要求的日益提高，生活产生的垃圾日益增多，现存的区域卫生管理方案已经不能满足大型商场、校园、景区、社区对于环境卫生方面的需求。传统的环境卫生维护方案人力成本高，效率低，本项目提出了一种以机械代替人工的智能化解决方案。\n",
    "\n",
    "树莓派垃圾检测车采用PaddleDetection训练垃圾检测模型，然后使用Paddle-Lite的OPT工具实现模型的优化部署。最后配合驱动可对园区内垃圾实现精确检测，并利用自身携带机械臂拾取垃圾。\n",
    "<center>\n",
    "\n",
    "![](https://ai-studio-static-online.cdn.bcebos.com/2851bcf602e64e629854dc75e39e63cf0c309825945a42da8ce771e8448a404b)\n",
    "</center>"
   ]
  },
  {
   "cell_type": "markdown",
   "metadata": {
    "collapsed": false
   },
   "source": [
    "# 二、数据集简介\n",
    "\n",
    "<font size = 3 color = blue>我们选用了9类生活垃圾共650张图片，并使用精灵标注进行打标。相似的标注工具还有Labelme以及百度BML全功能AI开发平台！</font>"
   ]
  },
  {
   "cell_type": "markdown",
   "metadata": {
    "collapsed": false
   },
   "source": [
    "## 1.数据打标\n",
    "\n",
    "#### 1、新建目标检测任务标注\n",
    "\n",
    "<center>\n",
    "<img src=https://ai-studio-static-online.cdn.bcebos.com/ec1b428f918c4be1be89cb4f9f78be963147ca02880f495e8715acd60754e9c7 width=\"600\" >\n",
    "</center>\n",
    "\n",
    "#### 2、开始打框，打框前记得设置好label\n",
    "\n",
    "<center>\n",
    "<img src=https://ai-studio-static-online.cdn.bcebos.com/e0b26028976548ba80f05e1325b32a3e2c79c3902d8648c2a9a476616c3e5a11 width=\"600\" >\n",
    "</center>\n",
    "\n",
    "#### 3、导出选择pascal-voc\n",
    "\n",
    "<center>\n",
    "<img src=https://ai-studio-static-online.cdn.bcebos.com/d7de4a4a610a4d009a19cd8c2c36830ccf4d7202bff14e1a95c4977563ba8a06 width=\"600\" >\n",
    "</center>\n"
   ]
  },
  {
   "cell_type": "markdown",
   "metadata": {
    "collapsed": false
   },
   "source": [
    "## 2.数据加载和预处理\n",
    "<font size = 3 color = blue>此处我组织的数据集放在PaddleDetection/dataset/roadsign_voc目录下，可在下文解压数据集后自行查看。</font>"
   ]
  },
  {
   "cell_type": "markdown",
   "metadata": {
    "collapsed": false
   },
   "source": [
    "#### 1、整理成VOC格式的数据集： 创建三个文件夹：annotations、images、ImageSets。\n",
    "\n",
    "![](https://ai-studio-static-online.cdn.bcebos.com/ac3fd601a42744c2b478a7005b1dc36b35acd25362304111818350929741d9dc)\n",
    "\n",
    "#### 2、将标注生成的XML文件存入annotations，图片存入images，训练集、测试集、验证集的划分情况存入ImageSets。 在ImageSets下创建一个Main文件夹，并且在Mian文件夹下建立label_list.txt，里面存入标注的标签。 此label_list.txt文件复制一份与annotations、images、ImageSets同级位置放置。 其内容如下：\n",
    "\n",
    "![](https://ai-studio-static-online.cdn.bcebos.com/daaa0bef743d46299f8fc9f48313f370731a6bd626ff4f8ea9be19a6888fd384)\n",
    "\n",
    "#### 3、之后运行下列代码，会在Main文件夹下生成训练集、验证集、测试集的txt文件。\n",
    "\n",
    "```\n",
    "import os\n",
    "import random\n",
    "\n",
    "trainval_percent = 0.95\n",
    "train_percent = 0.9\n",
    "xmlfilepath = 'F:/Data/LaJiJianCheVoc/annotations' # 修改为自己的路径\n",
    "txtsavepath = 'F:/Data/LaJiJianCheVoc/ImageSets/Main' # 修改为自己的路径\n",
    "total_xml = os.listdir(xmlfilepath)\n",
    "\n",
    "num = len(total_xml)\n",
    "list = range(num)  # 650\n",
    "tv = int(num * trainval_percent)  # 0.95 * 650 = 617.5\n",
    "tr = int(num * train_percent)  # 0.9 * 650 = 585\n",
    "trainval = random.sample(list, tv)\n",
    "train = random.sample(list, tr)\n",
    "\n",
    "ftrainval = open('F:/Data/LaJiJianCheVoc/ImageSets/Main/trainval.txt', 'w')\n",
    "ftest = open('F:/Data/LaJiJianCheVoc/ImageSets/Main/test.txt', 'w')\n",
    "ftrain = open('F:/Data/LaJiJianCheVoc/ImageSets/Main/train.txt', 'w')\n",
    "fval = open('F:/Data/LaJiJianCheVoc/ImageSets/Main/val.txt', 'w')\n",
    "\n",
    "for i in list:\n",
    "    name = total_xml[i][:-4] + '\\n'\n",
    "    if i in trainval:\n",
    "        ftrainval.write(name)\n",
    "        if i in train:\n",
    "            ftrain.write(name)\n",
    "        else:\n",
    "            fval.write(name)\n",
    "    else:\n",
    "        ftest.write(name)\n",
    "\n",
    "ftrainval.close\n",
    "ftrain.close\n",
    "ftest.close\n",
    "fval.close\n",
    "```\n",
    "#### 4、再运行以下可根据Main文件夹中划分好的数据集进行位置索引，生成具有图像路径和其对应的XML文件路径的txt文件。\n",
    "\n",
    "```\n",
    "'''\n",
    "在Main文件夹中划分好的数据集进行位置索引，生成含有图像及对应的XML文件的地址信息的文件。\n",
    "'''\n",
    "import os\n",
    "import random\n",
    "import re\n",
    "\n",
    "devkit_dir = './'\n",
    "output_dir = './'\n",
    "\n",
    "def get_dir(devkit_dir, type):\n",
    "    return os.path.join(devkit_dir, type)\n",
    "\n",
    "def walk_dir(devkit_dir):\n",
    "    filelist_dir = get_dir(devkit_dir, 'ImageSets/Main') # 不需要更换路径\n",
    "    annotation_dir = get_dir(devkit_dir, 'annotations')\n",
    "    img_dir = get_dir(devkit_dir, 'images')\n",
    "    trainval_list = []\n",
    "    train_list = []\n",
    "    val_list = []\n",
    "    test_list = []\n",
    "\n",
    "    added = set()  # 创建无序集合\n",
    "\n",
    "    for _, _, files in os.walk(filelist_dir):\n",
    "        for fname in files:\n",
    "            img_ann_list = []\n",
    "            if re.match('trainval.txt', fname):\n",
    "                img_ann_list = trainval_list\n",
    "            elif re.match('train.txt', fname):\n",
    "                img_ann_list = train_list\n",
    "            elif re.match('val.txt', fname):\n",
    "                img_ann_list = val_list\n",
    "            elif re.match('test.txt', fname):\n",
    "                img_ann_list = test_list\n",
    "            else:\n",
    "                continue\n",
    "            fpath = os.path.join(filelist_dir, fname)\n",
    "            for line in open(fpath):\n",
    "                name_prefix = line.strip().split()[0]\n",
    "                # print(name_prefix)\n",
    "\n",
    "                added.add(name_prefix)\n",
    "                ann_path = annotation_dir + '/' + name_prefix + '.xml'\n",
    "                # print(ann_path)\n",
    "                img_path = img_dir + '/' + name_prefix + '.jpg'\n",
    "                assert os.path.isfile(\n",
    "                    ann_path), 'file %s not found.' % ann_path\n",
    "                assert os.path.isfile(\n",
    "                    img_path), 'file %s not found.' % img_path\n",
    "                img_ann_list.append((img_path, ann_path))\n",
    "\n",
    "            print(img_ann_list[:4])\n",
    "    return trainval_list, train_list, test_list, val_list\n",
    "\n",
    "def prepare_filelist(devkit_dir, output_dir):\n",
    "    trainval_list = []\n",
    "    train_list = []\n",
    "    test_list = []\n",
    "    val_list = []\n",
    "\n",
    "    trainval, train, test, val = walk_dir(devkit_dir)\n",
    "\n",
    "    trainval_list.extend(trainval)\n",
    "    train_list.extend(train)\n",
    "    test_list.extend(test)\n",
    "    val_list.extend(val)\n",
    "\n",
    "    with open(os.path.join(output_dir, 'trainval.txt'), 'w') as ftrainval:\n",
    "        for item in trainval_list:\n",
    "            ftrainval.write(item[0] + ' ' + item[1] + '\\n')\n",
    "    with open(os.path.join(output_dir, 'train.txt'), 'w') as ftrain:\n",
    "        for item in train_list:\n",
    "            ftrain.write(item[0] + ' ' + item[1] + '\\n')\n",
    "    with open(os.path.join(output_dir, 'test.txt'), 'w') as ftest:\n",
    "        for item in test_list:\n",
    "            ftest.write(item[0] + ' ' + item[1] + '\\n')\n",
    "    with open(os.path.join(output_dir, 'val.txt'), 'w') as fval:\n",
    "        for item in val_list:\n",
    "            fval.write(item[0] + ' ' + item[1] + '\\n')\n",
    "\n",
    "\n",
    "if __name__ == '__main__':\n",
    "    prepare_filelist(devkit_dir, output_dir)\n",
    "```\n",
    "\n",
    "#### 5、最后整个文件目录如下 <font size = 3 color = blue>(注意.py文件需要放在文件夹根目录)</font>\n",
    "\n",
    "![](https://ai-studio-static-online.cdn.bcebos.com/6f6d1de44c3d46058fd81474b55e01a3c33c10ee3cf045c3b8c609545925978d)\n",
    "\n",
    "#### 6、最后只需要将annotations、images文件夹，以及label_list.txt、test.txt、train.txt、val.txt、trainval.txt文件上传至PaddleDetection/dataset/roadsign_voc目录下。"
   ]
  },
  {
   "cell_type": "markdown",
   "metadata": {
    "collapsed": false
   },
   "source": [
    "## 3.修改网络配置"
   ]
  },
  {
   "cell_type": "markdown",
   "metadata": {
    "collapsed": false
   },
   "source": [
    "<font size = 3 color = blue> 此处我们使用的是ssd_mobilenet_v1_300_120e_voc.yml网络的配置文件，相关注释我已经标注如下：</font>\n",
    "\n",
    "<font size = 3 color = blue>在PaddleDetection 2.0后续版本，采用了模块解耦设计，用户可以组合配置模块实现检测器，并可自由修改覆盖各模块配置，如下图所示</font>\n",
    "</font>\n",
    "![](https://ai-studio-static-online.cdn.bcebos.com/c6e0296caad845b785be7680a192719aa990fb645eb747a4aed021f2171273c7)\n",
    "\n",
    "<font size = 3 color = blue> 由于原网络配置和我们需要的配置有出入，具体体现在我们此处做的9类垃圾检测，而原配置不是。我们需要做几处修改：1、修改num_class为10(9label_class)+1(background)。2、修改voc.py文件中的label。</font>\n",
    "\n",
    "<font size = 3 color = blue>1、修改PaddleDetection/configs/datasets/roadsign_voc.yml</font>\n",
    "\n",
    "![](https://ai-studio-static-online.cdn.bcebos.com/1763fa5325b04744871137871b179f11613a7cf49fe74c1b848297d37064f096)\n",
    "\n",
    "<font size = 3 color = blue>2、修改PaddleDetection/ppdet/data/source/voc.py(值得注意的是此处的if语句在前面num_class为10的时候一定要加上)</font>\n",
    "\n",
    "![](https://ai-studio-static-online.cdn.bcebos.com/a4f2e36dc3034d239c00bba6fcb18bae0e607483d1da4f9e978992e799982882)\n"
   ]
  },
  {
   "cell_type": "markdown",
   "metadata": {
    "collapsed": false
   },
   "source": [
    "# 三、代码实操"
   ]
  },
  {
   "cell_type": "code",
   "execution_count": 1,
   "metadata": {
    "collapsed": false
   },
   "outputs": [
    {
     "name": "stdout",
     "output_type": "stream",
     "text": [
      "2.1.0\n"
     ]
    }
   ],
   "source": [
    "import paddle\r\n",
    "print(paddle.__version__)"
   ]
  },
  {
   "cell_type": "code",
   "execution_count": null,
   "metadata": {
    "collapsed": false
   },
   "outputs": [],
   "source": [
    "# 下载paddleDetection\r\n",
    "!pip install paddledet==2.1.0 -i https://mirror.baidu.com/pypi/simple"
   ]
  },
  {
   "cell_type": "code",
   "execution_count": null,
   "metadata": {
    "collapsed": false
   },
   "outputs": [],
   "source": [
    "# 克隆paddledetetection库（github网速感人已换gitee）\r\n",
    "!git clone https://gitee.com/PaddlePaddle/PaddleDetection.git"
   ]
  },
  {
   "cell_type": "code",
   "execution_count": 4,
   "metadata": {
    "collapsed": false
   },
   "outputs": [],
   "source": [
    "# 设置工作目录\r\n",
    "%cd PaddleDetection/\r\n",
    "%env PYTHONPATH=/home/aistudio/PaddleDetection"
   ]
  },
  {
   "cell_type": "code",
   "execution_count": null,
   "metadata": {
    "collapsed": false
   },
   "outputs": [],
   "source": [
    "# 验证是否安装成功\r\n",
    "!python tools/infer.py \\\r\n",
    "        -c configs/ppyolo/ppyolo_r50vd_dcn_1x_coco.yml \\\r\n",
    "        -o use_gpu=true \\\r\n",
    "        weights=https://paddledet.bj.bcebos.com/models/ppyolo_r50vd_dcn_1x_coco.pdparams \\\r\n",
    "        --infer_img=demo/000000014439.jpg"
   ]
  },
  {
   "cell_type": "markdown",
   "metadata": {
    "collapsed": false
   },
   "source": [
    "<font size = 4 color=blue>若验证安装成功，在PaddleDetection/output目录下会出现下图检测结果图片</font>\n",
    "\n",
    "<center>\n",
    "  \n",
    "![](https://ai-studio-static-online.cdn.bcebos.com/6f79ea3f41f54f1c97c31abfaa9f1cfb74812445350b463ea361428e90708a56)\n",
    "</center>\n",
    "\n",
    "<font size = 4 color=blue>若验证安装失败，请对照官方文档解决</font>"
   ]
  },
  {
   "cell_type": "code",
   "execution_count": 7,
   "metadata": {
    "collapsed": false
   },
   "outputs": [],
   "source": [
    "%cd ~\r\n",
    "\r\n",
    "# 解压数据集，若前面已经上传就不要再运行\r\n",
    "!unzip -oq data/data95917/LaJiJianCheVoc.zip -d PaddleDetection/dataset/roadsign_voc/\r\n",
    "\r\n",
    "%cd PaddleDetection/"
   ]
  },
  {
   "cell_type": "markdown",
   "metadata": {
    "collapsed": false
   },
   "source": [
    "## 开始训练"
   ]
  },
  {
   "cell_type": "markdown",
   "metadata": {
    "collapsed": false
   },
   "source": [
    "<font size = 4 color=blue>训练开始之前请保证上述文件均已按照要求修改完成，此处我将已经修改好的文件放在work/Revised_document目录下，也在相应路径下作出替换，读者可自行查看。</font>"
   ]
  },
  {
   "cell_type": "code",
   "execution_count": 8,
   "metadata": {
    "collapsed": false
   },
   "outputs": [],
   "source": [
    "!python -u tools/train.py \\\r\n",
    "        -c configs/ssd/ssd_mobilenet_v1_300_120e_voc.yml \\\r\n",
    "        --eval \\\r\n",
    "        --use_vdl=True \\\r\n",
    "        --vdl_log_dir=output/vdl_dir/scalar"
   ]
  },
  {
   "cell_type": "markdown",
   "metadata": {
    "collapsed": false
   },
   "source": [
    "<font size = 4 color=blue>出现ppdet.engine INFO: Eval iter: 0一直为0的情况是因为eval里面的数据量少于100，大家可以自行扩充。</font>"
   ]
  },
  {
   "cell_type": "markdown",
   "metadata": {
    "collapsed": false
   },
   "source": [
    "#### 推理验证"
   ]
  },
  {
   "cell_type": "code",
   "execution_count": 14,
   "metadata": {
    "collapsed": false
   },
   "outputs": [],
   "source": [
    "!python tools/infer.py -c configs/ssd/ssd_mobilenet_v1_300_120e_voc.yml --infer_img=img_950.jpg"
   ]
  },
  {
   "cell_type": "markdown",
   "metadata": {
    "collapsed": false
   },
   "source": [
    "<font size = 4 color = blue>随手拍了一张照片，预测结果保存在output/test.jpg，效果来看不错。预测正确，label为易拉罐。</font>\n",
    "\n",
    "<center>\n",
    "  \n",
    "![](https://ai-studio-static-online.cdn.bcebos.com/05b57c9d118f4d0f81978a4fb74d9bd2d6232e21dd04406f9dfb2c074792e0cb)\n",
    "</center>"
   ]
  },
  {
   "cell_type": "markdown",
   "metadata": {
    "collapsed": false
   },
   "source": [
    "## 转化为预测模型"
   ]
  },
  {
   "cell_type": "code",
   "execution_count": null,
   "metadata": {
    "collapsed": false
   },
   "outputs": [],
   "source": [
    "!python -u tools/export_model.py -c configs/ssd/ssd_mobilenet_v1_300_120e_voc.yml --output_dir=./inference_model_final"
   ]
  },
  {
   "cell_type": "markdown",
   "metadata": {
    "collapsed": false
   },
   "source": [
    "#### 若要设置导出模型的输入大小，需要设置TestReader中的 `image_shape` 可以修改保存模型中的输入图片大小\n",
    "\n",
    "```\n",
    "!python -u tools/export_model.py \\\n",
    "\t\t-c configs/ssd/ssd_mobilenet_v1_300_120e_voc.yml \\\n",
    "\t\t--output_dir=./inference_model_final \\\n",
    "\t\t-o TestReader.inputs_def.image_shape=[3,224,224] # 修改此处\n",
    "```"
   ]
  },
  {
   "cell_type": "markdown",
   "metadata": {
    "collapsed": false
   },
   "source": [
    "# 四、Paddle-Lite侧端部署"
   ]
  },
  {
   "cell_type": "markdown",
   "metadata": {
    "collapsed": false
   },
   "source": [
    "<font size = 3 color = blue>Lite部署流程，在完成了模型训练流程之后，我们得到了paddle的原生推理模型，然后我们需要使用Opt工具生成我们的Lite优化模型，优化后的模型更轻量，模型运行速度更快。</font>\n",
    "\n",
    "<center>\n",
    "<img src=https://ai-studio-static-online.cdn.bcebos.com/d932932ec1254d6392292511a1c4065d253e9e5e28f84095b75503db28fa597a width=\"600\" >\n",
    "</center>\n",
    "\n",
    "<font size = 3 color = blue>安装paddle_lite_opt工具有两种方法，下面将演示。</font>"
   ]
  },
  {
   "cell_type": "markdown",
   "metadata": {
    "collapsed": false
   },
   "source": [
    "## [建议] pip安装paddlelite并进行转换"
   ]
  },
  {
   "cell_type": "code",
   "execution_count": 16,
   "metadata": {
    "collapsed": false
   },
   "outputs": [],
   "source": [
    "!pip install paddlelite"
   ]
  },
  {
   "cell_type": "code",
   "execution_count": 17,
   "metadata": {
    "collapsed": false
   },
   "outputs": [],
   "source": [
    "# 转换工作目录\r\n",
    "%cd ~"
   ]
  },
  {
   "cell_type": "markdown",
   "metadata": {
    "collapsed": false
   },
   "source": [
    "#### 使用OPT工具生成侧端部署模型"
   ]
  },
  {
   "cell_type": "markdown",
   "metadata": {
    "collapsed": false
   },
   "source": [
    "<font size = 4 color = blue>opt工具使用教程</font>\n",
    "\n",
    "<font size = 4 color = blue>[教程链接🔗](https://paddle-lite.readthedocs.io/zh/latest/user_guides/opt/opt_bin.html)</font>\n",
    "\n",
    "<center>\n",
    "<img src=https://ai-studio-static-online.cdn.bcebos.com/a104064f60b140d988b03296bcb65a8d9ebc1d60064e467181928b2af73dc67f width=\"600\" >\n",
    "</center>"
   ]
  },
  {
   "cell_type": "code",
   "execution_count": 18,
   "metadata": {
    "collapsed": false
   },
   "outputs": [],
   "source": [
    "# 运行下列代码会在~根目录生成LaJiJianCheModle.nb文件\r\n",
    "!paddle_lite_opt --model_file=PaddleDetection/inference_model_final/ssd_mobilenet_v1_300_120e_voc/model.pdmodel \\\r\n",
    "                 --param_file=PaddleDetection/inference_model_final/ssd_mobilenet_v1_300_120e_voc/model.pdiparams \\\r\n",
    "                 --optimize_out_type=naive_buffer \\\r\n",
    "                 --optimize_out=./LaJiJianCheModle"
   ]
  },
  {
   "cell_type": "markdown",
   "metadata": {
    "collapsed": false
   },
   "source": [
    "## 源码编译Paddle-Lite生成opt工具\n",
    "\n",
    "#### 模型优化需要Paddle-Lite的opt可执行文件，可以通过编译Paddle-Lite源码获得，编译步骤如下："
   ]
  },
  {
   "cell_type": "code",
   "execution_count": null,
   "metadata": {
    "collapsed": false
   },
   "outputs": [],
   "source": [
    "!git clone https://gitee.com/paddlepaddle/paddle-lite.git\r\n",
    "%cd paddle-lite/"
   ]
  },
  {
   "cell_type": "code",
   "execution_count": null,
   "metadata": {
    "collapsed": false
   },
   "outputs": [],
   "source": [
    "# 检查分支\r\n",
    "!git checkout develop"
   ]
  },
  {
   "cell_type": "code",
   "execution_count": null,
   "metadata": {
    "collapsed": false
   },
   "outputs": [],
   "source": [
    "# 启动编译 (时间较长，我的网络太拉了，读者可自行尝试）\r\n",
    "!./lite/tools/build.sh build_optimize_tool"
   ]
  },
  {
   "cell_type": "markdown",
   "metadata": {
    "collapsed": false
   },
   "source": [
    "#### 编译完成后，`opt` 文件位于`build.opt/lite/api/`下，可通过如下方式查看`opt`的运行选项和使用方式；"
   ]
  },
  {
   "cell_type": "code",
   "execution_count": 1,
   "metadata": {
    "collapsed": false
   },
   "outputs": [],
   "source": [
    "cd build.opt/lite/api/\r\n",
    "./opt\r\n",
    "# 后面转化模型使用方法如1、"
   ]
  },
  {
   "cell_type": "markdown",
   "metadata": {
    "collapsed": false
   },
   "source": [
    "# 五、总结与升华 \n",
    "\n",
    "这个项目是部署的前置项目，整个流程相对简单，读者们可以轻易复现，遇到问题也欢迎积极到评论区留言 : )\n",
    " \n",
    "后期会完成此项目的部署工作，完成之后会在此项目更新链接。"
   ]
  },
  {
   "cell_type": "markdown",
   "metadata": {
    "collapsed": false
   },
   "source": [
    "# 关于作者\n",
    "\n",
    "> 湖北文理学院 汽车与交通工程学院 车辆新能源 2019级本科生 马飞\n",
    "\n",
    "> 主要方向：CV、RL、SLAM、AI安全\n",
    "\n",
    "> 爱好：游泳、摸鱼、比赛、平常也会写写专利论文啥的\n",
    "\n",
    "> 我的主页：[鱼不辞水](https://aistudio.baidu.com/aistudio/usercenter)  欢迎来互关啊！！！\n"
   ]
  },
  {
   "cell_type": "code",
   "execution_count": null,
   "metadata": {
    "collapsed": false
   },
   "outputs": [],
   "source": []
  }
 ],
 "metadata": {
  "kernelspec": {
   "display_name": "PaddlePaddle 2.1.2 (Python 3.5)",
   "language": "python",
   "name": "py35-paddle1.2.0"
  },
  "language_info": {
   "codemirror_mode": {
    "name": "ipython",
    "version": 3
   },
   "file_extension": ".py",
   "mimetype": "text/x-python",
   "name": "python",
   "nbconvert_exporter": "python",
   "pygments_lexer": "ipython3",
   "version": "3.7.4"
  }
 },
 "nbformat": 4,
 "nbformat_minor": 1
}
